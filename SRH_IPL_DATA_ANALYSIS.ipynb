{
  "nbformat": 4,
  "nbformat_minor": 0,
  "metadata": {
    "colab": {
      "name": "SRH IPL DATA  ANALYSIS.ipynb",
      "provenance": [],
      "collapsed_sections": [],
      "include_colab_link": true
    },
    "kernelspec": {
      "name": "python3",
      "display_name": "Python 3"
    },
    "language_info": {
      "name": "python"
    }
  },
  "cells": [
    {
      "cell_type": "markdown",
      "metadata": {
        "id": "view-in-github",
        "colab_type": "text"
      },
      "source": [
        "<a href=\"https://colab.research.google.com/github/aishwarya-dass/Projects/blob/main/SRH_IPL_DATA_ANALYSIS.ipynb\" target=\"_parent\"><img src=\"https://colab.research.google.com/assets/colab-badge.svg\" alt=\"Open In Colab\"/></a>"
      ]
    },
    {
      "cell_type": "markdown",
      "metadata": {
        "id": "uvadWofcvhh5"
      },
      "source": [
        "#Problem Statement :\n",
        "##“Struggling Sunrisers Hyderabad replaced David Warner with Kane Williamson as the captain in IPL 2021 “"
      ]
    },
    {
      "cell_type": "markdown",
      "metadata": {
        "id": "vNcjun4ca2Zs"
      },
      "source": [
        "###Terms\n",
        "######1.Batting Average:It is the total number of runs they have scored divided by the number of times they have been out\n",
        "######2.Strike Rate(Batting) :average number of runs scored per 100 balls faced\n",
        "######3.Bowling Average:It is the number of runs they have conceded per wicket taken\n",
        "######4.Economy(Bowling) :The average number of runs they have conceded per over bowled.\n",
        "######5.Wickets taken(Bowling): Number of times the bowler has dismissed the batsman"
      ]
    },
    {
      "cell_type": "markdown",
      "metadata": {
        "id": "kLKjxrSUeYSk"
      },
      "source": [
        "#####Constrains : Only four foreigners allowed in each team,having two overseas batsman can disturb the team balance \n",
        "#####Hence choosing one among David Warner and Kane Williamson is vital."
      ]
    },
    {
      "cell_type": "code",
      "metadata": {
        "id": "-qj8rXJR7n33"
      },
      "source": [
        "import numpy as np\n",
        "import pandas as pd\n",
        "import matplotlib.pyplot as plt\n",
        "import seaborn as sns"
      ],
      "execution_count": null,
      "outputs": []
    },
    {
      "cell_type": "code",
      "metadata": {
        "colab": {
          "base_uri": "https://localhost:8080/",
          "height": 418
        },
        "id": "dQY0WB348XiU",
        "outputId": "b844f544-7a4f-4557-f573-9254f3a56fc9"
      },
      "source": [
        "# statictics of David Warner\n",
        "dw=pd.read_excel('SRH DATA .xlsx',sheet_name='david warner')\n",
        "dw"
      ],
      "execution_count": null,
      "outputs": [
        {
          "output_type": "execute_result",
          "data": {
            "text/html": [
              "<div>\n",
              "<style scoped>\n",
              "    .dataframe tbody tr th:only-of-type {\n",
              "        vertical-align: middle;\n",
              "    }\n",
              "\n",
              "    .dataframe tbody tr th {\n",
              "        vertical-align: top;\n",
              "    }\n",
              "\n",
              "    .dataframe thead th {\n",
              "        text-align: right;\n",
              "    }\n",
              "</style>\n",
              "<table border=\"1\" class=\"dataframe\">\n",
              "  <thead>\n",
              "    <tr style=\"text-align: right;\">\n",
              "      <th></th>\n",
              "      <th>YEAR</th>\n",
              "      <th>MATCHES PLAYED</th>\n",
              "      <th>RUNS</th>\n",
              "      <th>AVERAGE</th>\n",
              "      <th>STRIKE RATE</th>\n",
              "    </tr>\n",
              "  </thead>\n",
              "  <tbody>\n",
              "    <tr>\n",
              "      <th>0</th>\n",
              "      <td>2021</td>\n",
              "      <td>6</td>\n",
              "      <td>193</td>\n",
              "      <td>32.16</td>\n",
              "      <td>110.28</td>\n",
              "    </tr>\n",
              "    <tr>\n",
              "      <th>1</th>\n",
              "      <td>2020</td>\n",
              "      <td>16</td>\n",
              "      <td>548</td>\n",
              "      <td>39.14</td>\n",
              "      <td>134.64</td>\n",
              "    </tr>\n",
              "    <tr>\n",
              "      <th>2</th>\n",
              "      <td>2019</td>\n",
              "      <td>12</td>\n",
              "      <td>692</td>\n",
              "      <td>69.20</td>\n",
              "      <td>143.86</td>\n",
              "    </tr>\n",
              "    <tr>\n",
              "      <th>3</th>\n",
              "      <td>2017</td>\n",
              "      <td>14</td>\n",
              "      <td>641</td>\n",
              "      <td>58.27</td>\n",
              "      <td>141.81</td>\n",
              "    </tr>\n",
              "    <tr>\n",
              "      <th>4</th>\n",
              "      <td>2016</td>\n",
              "      <td>17</td>\n",
              "      <td>848</td>\n",
              "      <td>60.57</td>\n",
              "      <td>151.42</td>\n",
              "    </tr>\n",
              "    <tr>\n",
              "      <th>5</th>\n",
              "      <td>2015</td>\n",
              "      <td>14</td>\n",
              "      <td>562</td>\n",
              "      <td>43.23</td>\n",
              "      <td>156.54</td>\n",
              "    </tr>\n",
              "    <tr>\n",
              "      <th>6</th>\n",
              "      <td>2014</td>\n",
              "      <td>14</td>\n",
              "      <td>528</td>\n",
              "      <td>48.00</td>\n",
              "      <td>140.80</td>\n",
              "    </tr>\n",
              "    <tr>\n",
              "      <th>7</th>\n",
              "      <td>2013</td>\n",
              "      <td>16</td>\n",
              "      <td>410</td>\n",
              "      <td>31.53</td>\n",
              "      <td>126.93</td>\n",
              "    </tr>\n",
              "    <tr>\n",
              "      <th>8</th>\n",
              "      <td>2012</td>\n",
              "      <td>8</td>\n",
              "      <td>256</td>\n",
              "      <td>36.57</td>\n",
              "      <td>164.10</td>\n",
              "    </tr>\n",
              "    <tr>\n",
              "      <th>9</th>\n",
              "      <td>2011</td>\n",
              "      <td>13</td>\n",
              "      <td>324</td>\n",
              "      <td>24.92</td>\n",
              "      <td>117.39</td>\n",
              "    </tr>\n",
              "    <tr>\n",
              "      <th>10</th>\n",
              "      <td>2010</td>\n",
              "      <td>11</td>\n",
              "      <td>282</td>\n",
              "      <td>28.20</td>\n",
              "      <td>147.64</td>\n",
              "    </tr>\n",
              "    <tr>\n",
              "      <th>11</th>\n",
              "      <td>2009</td>\n",
              "      <td>7</td>\n",
              "      <td>163</td>\n",
              "      <td>23.28</td>\n",
              "      <td>123.48</td>\n",
              "    </tr>\n",
              "  </tbody>\n",
              "</table>\n",
              "</div>"
            ],
            "text/plain": [
              "    YEAR  MATCHES PLAYED  RUNS  AVERAGE  STRIKE RATE\n",
              "0   2021               6   193    32.16       110.28\n",
              "1   2020              16   548    39.14       134.64\n",
              "2   2019              12   692    69.20       143.86\n",
              "3   2017              14   641    58.27       141.81\n",
              "4   2016              17   848    60.57       151.42\n",
              "5   2015              14   562    43.23       156.54\n",
              "6   2014              14   528    48.00       140.80\n",
              "7   2013              16   410    31.53       126.93\n",
              "8   2012               8   256    36.57       164.10\n",
              "9   2011              13   324    24.92       117.39\n",
              "10  2010              11   282    28.20       147.64\n",
              "11  2009               7   163    23.28       123.48"
            ]
          },
          "metadata": {},
          "execution_count": 2
        }
      ]
    },
    {
      "cell_type": "code",
      "metadata": {
        "colab": {
          "base_uri": "https://localhost:8080/"
        },
        "id": "6UhlIEBHdDfA",
        "outputId": "33536483-39f9-4058-fb5e-bf1af13406f6"
      },
      "source": [
        "dw.isnull().sum()"
      ],
      "execution_count": null,
      "outputs": [
        {
          "output_type": "execute_result",
          "data": {
            "text/plain": [
              "YEAR              0\n",
              "MATCHES PLAYED    0\n",
              "RUNS              0\n",
              "AVERAGE           0\n",
              "STRIKE RATE       0\n",
              "dtype: int64"
            ]
          },
          "metadata": {},
          "execution_count": 5
        }
      ]
    },
    {
      "cell_type": "code",
      "metadata": {
        "colab": {
          "base_uri": "https://localhost:8080/"
        },
        "id": "bh0Q5PUFdiGF",
        "outputId": "f4b007bd-fe02-4c3e-f7d1-fccf9f41f2a7"
      },
      "source": [
        "dw.duplicated().sum()"
      ],
      "execution_count": null,
      "outputs": [
        {
          "output_type": "execute_result",
          "data": {
            "text/plain": [
              "0"
            ]
          },
          "metadata": {},
          "execution_count": 7
        }
      ]
    },
    {
      "cell_type": "code",
      "metadata": {
        "colab": {
          "base_uri": "https://localhost:8080/",
          "height": 265
        },
        "id": "Yv6dyDYg_3Bh",
        "outputId": "eb37af31-2015-449b-9ab4-80ff5deaaad6"
      },
      "source": [
        "#statictics of Kane Williamson\n",
        "kw=pd.read_excel('SRH DATA .xlsx',sheet_name='kane williamson')\n",
        "kw"
      ],
      "execution_count": null,
      "outputs": [
        {
          "output_type": "execute_result",
          "data": {
            "text/html": [
              "<div>\n",
              "<style scoped>\n",
              "    .dataframe tbody tr th:only-of-type {\n",
              "        vertical-align: middle;\n",
              "    }\n",
              "\n",
              "    .dataframe tbody tr th {\n",
              "        vertical-align: top;\n",
              "    }\n",
              "\n",
              "    .dataframe thead th {\n",
              "        text-align: right;\n",
              "    }\n",
              "</style>\n",
              "<table border=\"1\" class=\"dataframe\">\n",
              "  <thead>\n",
              "    <tr style=\"text-align: right;\">\n",
              "      <th></th>\n",
              "      <th>YEAR</th>\n",
              "      <th>MATCHES PLAYED</th>\n",
              "      <th>TOTAL RUNS</th>\n",
              "      <th>AVERAGE</th>\n",
              "      <th>STRIKE RATE</th>\n",
              "    </tr>\n",
              "  </thead>\n",
              "  <tbody>\n",
              "    <tr>\n",
              "      <th>0</th>\n",
              "      <td>2021</td>\n",
              "      <td>4</td>\n",
              "      <td>128</td>\n",
              "      <td>128.00</td>\n",
              "      <td>126.73</td>\n",
              "    </tr>\n",
              "    <tr>\n",
              "      <th>1</th>\n",
              "      <td>2020</td>\n",
              "      <td>12</td>\n",
              "      <td>317</td>\n",
              "      <td>45.28</td>\n",
              "      <td>133.75</td>\n",
              "    </tr>\n",
              "    <tr>\n",
              "      <th>2</th>\n",
              "      <td>2019</td>\n",
              "      <td>9</td>\n",
              "      <td>156</td>\n",
              "      <td>22.28</td>\n",
              "      <td>120.00</td>\n",
              "    </tr>\n",
              "    <tr>\n",
              "      <th>3</th>\n",
              "      <td>2018</td>\n",
              "      <td>17</td>\n",
              "      <td>735</td>\n",
              "      <td>52.50</td>\n",
              "      <td>142.44</td>\n",
              "    </tr>\n",
              "    <tr>\n",
              "      <th>4</th>\n",
              "      <td>2017</td>\n",
              "      <td>7</td>\n",
              "      <td>256</td>\n",
              "      <td>42.66</td>\n",
              "      <td>151.47</td>\n",
              "    </tr>\n",
              "    <tr>\n",
              "      <th>5</th>\n",
              "      <td>2016</td>\n",
              "      <td>6</td>\n",
              "      <td>124</td>\n",
              "      <td>20.66</td>\n",
              "      <td>101.63</td>\n",
              "    </tr>\n",
              "    <tr>\n",
              "      <th>6</th>\n",
              "      <td>2015</td>\n",
              "      <td>2</td>\n",
              "      <td>31</td>\n",
              "      <td>31.00</td>\n",
              "      <td>114.81</td>\n",
              "    </tr>\n",
              "  </tbody>\n",
              "</table>\n",
              "</div>"
            ],
            "text/plain": [
              "   YEAR  MATCHES PLAYED  TOTAL RUNS  AVERAGE  STRIKE RATE\n",
              "0  2021               4         128   128.00       126.73\n",
              "1  2020              12         317    45.28       133.75\n",
              "2  2019               9         156    22.28       120.00\n",
              "3  2018              17         735    52.50       142.44\n",
              "4  2017               7         256    42.66       151.47\n",
              "5  2016               6         124    20.66       101.63\n",
              "6  2015               2          31    31.00       114.81"
            ]
          },
          "metadata": {},
          "execution_count": 8
        }
      ]
    },
    {
      "cell_type": "code",
      "metadata": {
        "colab": {
          "base_uri": "https://localhost:8080/"
        },
        "id": "Mlo2aiQhdpt-",
        "outputId": "52d6903e-392a-4bcc-d075-7e813fed2f5a"
      },
      "source": [
        "kw.isnull().sum()"
      ],
      "execution_count": null,
      "outputs": [
        {
          "output_type": "execute_result",
          "data": {
            "text/plain": [
              "YEAR              0\n",
              "MATCHES PLAYED    0\n",
              "TOTAL RUNS        0\n",
              "AVERAGE           0\n",
              "STRIKE RATE       0\n",
              "dtype: int64"
            ]
          },
          "metadata": {},
          "execution_count": 9
        }
      ]
    },
    {
      "cell_type": "code",
      "metadata": {
        "colab": {
          "base_uri": "https://localhost:8080/"
        },
        "id": "S-TqfSSqdp8Z",
        "outputId": "5d1cd62e-f026-4b4f-e950-c5e263fabaad"
      },
      "source": [
        "kw.duplicated().sum()"
      ],
      "execution_count": null,
      "outputs": [
        {
          "output_type": "execute_result",
          "data": {
            "text/plain": [
              "0"
            ]
          },
          "metadata": {},
          "execution_count": 10
        }
      ]
    },
    {
      "cell_type": "markdown",
      "metadata": {
        "id": "NlKghcuhxDrI"
      },
      "source": [
        "##1. Performance"
      ]
    },
    {
      "cell_type": "code",
      "metadata": {
        "colab": {
          "base_uri": "https://localhost:8080/",
          "height": 203
        },
        "id": "k_Pn58iFkybm",
        "outputId": "eef27880-b41d-433c-c474-ac294d940db6"
      },
      "source": [
        "#Finding co relation in David Warner's data\n",
        "dw.corr()"
      ],
      "execution_count": null,
      "outputs": [
        {
          "output_type": "execute_result",
          "data": {
            "text/html": [
              "<div>\n",
              "<style scoped>\n",
              "    .dataframe tbody tr th:only-of-type {\n",
              "        vertical-align: middle;\n",
              "    }\n",
              "\n",
              "    .dataframe tbody tr th {\n",
              "        vertical-align: top;\n",
              "    }\n",
              "\n",
              "    .dataframe thead th {\n",
              "        text-align: right;\n",
              "    }\n",
              "</style>\n",
              "<table border=\"1\" class=\"dataframe\">\n",
              "  <thead>\n",
              "    <tr style=\"text-align: right;\">\n",
              "      <th></th>\n",
              "      <th>YEAR</th>\n",
              "      <th>MATCHES PLAYED</th>\n",
              "      <th>RUNS</th>\n",
              "      <th>AVERAGE</th>\n",
              "      <th>STRIKE RATE</th>\n",
              "    </tr>\n",
              "  </thead>\n",
              "  <tbody>\n",
              "    <tr>\n",
              "      <th>YEAR</th>\n",
              "      <td>1.000000</td>\n",
              "      <td>0.169871</td>\n",
              "      <td>0.463466</td>\n",
              "      <td>0.561383</td>\n",
              "      <td>-0.107000</td>\n",
              "    </tr>\n",
              "    <tr>\n",
              "      <th>MATCHES PLAYED</th>\n",
              "      <td>0.169871</td>\n",
              "      <td>1.000000</td>\n",
              "      <td>0.779525</td>\n",
              "      <td>0.434096</td>\n",
              "      <td>0.250266</td>\n",
              "    </tr>\n",
              "    <tr>\n",
              "      <th>RUNS</th>\n",
              "      <td>0.463466</td>\n",
              "      <td>0.779525</td>\n",
              "      <td>1.000000</td>\n",
              "      <td>0.881003</td>\n",
              "      <td>0.443583</td>\n",
              "    </tr>\n",
              "    <tr>\n",
              "      <th>AVERAGE</th>\n",
              "      <td>0.561383</td>\n",
              "      <td>0.434096</td>\n",
              "      <td>0.881003</td>\n",
              "      <td>1.000000</td>\n",
              "      <td>0.472587</td>\n",
              "    </tr>\n",
              "    <tr>\n",
              "      <th>STRIKE RATE</th>\n",
              "      <td>-0.107000</td>\n",
              "      <td>0.250266</td>\n",
              "      <td>0.443583</td>\n",
              "      <td>0.472587</td>\n",
              "      <td>1.000000</td>\n",
              "    </tr>\n",
              "  </tbody>\n",
              "</table>\n",
              "</div>"
            ],
            "text/plain": [
              "                    YEAR  MATCHES PLAYED      RUNS   AVERAGE  STRIKE RATE\n",
              "YEAR            1.000000        0.169871  0.463466  0.561383    -0.107000\n",
              "MATCHES PLAYED  0.169871        1.000000  0.779525  0.434096     0.250266\n",
              "RUNS            0.463466        0.779525  1.000000  0.881003     0.443583\n",
              "AVERAGE         0.561383        0.434096  0.881003  1.000000     0.472587\n",
              "STRIKE RATE    -0.107000        0.250266  0.443583  0.472587     1.000000"
            ]
          },
          "metadata": {},
          "execution_count": 11
        }
      ]
    },
    {
      "cell_type": "code",
      "metadata": {
        "colab": {
          "base_uri": "https://localhost:8080/",
          "height": 203
        },
        "id": "wrYA7yGHlR70",
        "outputId": "5f4e7fa6-7acf-44c2-c726-aa1c4df18121"
      },
      "source": [
        "#Finding co-relation in Kane Williamson's data\n",
        "kw.corr()"
      ],
      "execution_count": null,
      "outputs": [
        {
          "output_type": "execute_result",
          "data": {
            "text/html": [
              "<div>\n",
              "<style scoped>\n",
              "    .dataframe tbody tr th:only-of-type {\n",
              "        vertical-align: middle;\n",
              "    }\n",
              "\n",
              "    .dataframe tbody tr th {\n",
              "        vertical-align: top;\n",
              "    }\n",
              "\n",
              "    .dataframe thead th {\n",
              "        text-align: right;\n",
              "    }\n",
              "</style>\n",
              "<table border=\"1\" class=\"dataframe\">\n",
              "  <thead>\n",
              "    <tr style=\"text-align: right;\">\n",
              "      <th></th>\n",
              "      <th>YEAR</th>\n",
              "      <th>MATCHES PLAYED</th>\n",
              "      <th>TOTAL RUNS</th>\n",
              "      <th>AVERAGE</th>\n",
              "      <th>STRIKE RATE</th>\n",
              "    </tr>\n",
              "  </thead>\n",
              "  <tbody>\n",
              "    <tr>\n",
              "      <th>YEAR</th>\n",
              "      <td>1.000000</td>\n",
              "      <td>0.303728</td>\n",
              "      <td>0.190599</td>\n",
              "      <td>0.669648</td>\n",
              "      <td>0.311952</td>\n",
              "    </tr>\n",
              "    <tr>\n",
              "      <th>MATCHES PLAYED</th>\n",
              "      <td>0.303728</td>\n",
              "      <td>1.000000</td>\n",
              "      <td>0.925281</td>\n",
              "      <td>-0.137977</td>\n",
              "      <td>0.501691</td>\n",
              "    </tr>\n",
              "    <tr>\n",
              "      <th>TOTAL RUNS</th>\n",
              "      <td>0.190599</td>\n",
              "      <td>0.925281</td>\n",
              "      <td>1.000000</td>\n",
              "      <td>0.034786</td>\n",
              "      <td>0.616611</td>\n",
              "    </tr>\n",
              "    <tr>\n",
              "      <th>AVERAGE</th>\n",
              "      <td>0.669648</td>\n",
              "      <td>-0.137977</td>\n",
              "      <td>0.034786</td>\n",
              "      <td>1.000000</td>\n",
              "      <td>0.260988</td>\n",
              "    </tr>\n",
              "    <tr>\n",
              "      <th>STRIKE RATE</th>\n",
              "      <td>0.311952</td>\n",
              "      <td>0.501691</td>\n",
              "      <td>0.616611</td>\n",
              "      <td>0.260988</td>\n",
              "      <td>1.000000</td>\n",
              "    </tr>\n",
              "  </tbody>\n",
              "</table>\n",
              "</div>"
            ],
            "text/plain": [
              "                    YEAR  MATCHES PLAYED  TOTAL RUNS   AVERAGE  STRIKE RATE\n",
              "YEAR            1.000000        0.303728    0.190599  0.669648     0.311952\n",
              "MATCHES PLAYED  0.303728        1.000000    0.925281 -0.137977     0.501691\n",
              "TOTAL RUNS      0.190599        0.925281    1.000000  0.034786     0.616611\n",
              "AVERAGE         0.669648       -0.137977    0.034786  1.000000     0.260988\n",
              "STRIKE RATE     0.311952        0.501691    0.616611  0.260988     1.000000"
            ]
          },
          "metadata": {
            "tags": []
          },
          "execution_count": 7
        }
      ]
    },
    {
      "cell_type": "markdown",
      "metadata": {
        "id": "SOC5ZZ3HxRGa"
      },
      "source": [
        "##Inference from the co-relation table \n",
        "###We observe that the parameter matches played and total runs are positively co-related\n",
        "###The corelation coefficient is higher for Kane Williamson"
      ]
    },
    {
      "cell_type": "markdown",
      "metadata": {
        "id": "KULztjAiyKja"
      },
      "source": [
        "##Comparision of average between David Warner and Kane Williamson"
      ]
    },
    {
      "cell_type": "code",
      "metadata": {
        "colab": {
          "base_uri": "https://localhost:8080/"
        },
        "id": "-joL3i5HJf-5",
        "outputId": "77140d12-2eb0-4d1c-81a1-c931ede053bd"
      },
      "source": [
        "x=np.array([32.16,39.14,69.2,58.27,60.57,43.23,48,31,53,36.57,24.42,28.2,23.28])\n",
        "y=np.array([128.00,45.28,22.28,52.5,42.66,20.66,31])\n",
        "dwa=np.average(x)\n",
        "kwa=np.average(y)\n",
        "print(dwa,kwa)\n",
        "\n",
        "av={'Player':['David Warner','Kane Williamson'],'Average':[42.08,48.911]}\n",
        "averageruns=pd.DataFrame(av)\n",
        "print(averageruns)\n",
        "\n"
      ],
      "execution_count": null,
      "outputs": [
        {
          "output_type": "stream",
          "text": [
            "42.08 48.91142857142858\n",
            "            Player  Average\n",
            "0     David Warner   42.080\n",
            "1  Kane Williamson   48.911\n"
          ],
          "name": "stdout"
        }
      ]
    },
    {
      "cell_type": "code",
      "metadata": {
        "colab": {
          "base_uri": "https://localhost:8080/",
          "height": 295
        },
        "id": "f-Y-ZyRWR4Z_",
        "outputId": "caaae7d8-a2fa-421c-9898-577bbfcdd1d6"
      },
      "source": [
        "sns.barplot(x='Player',y='Average',data=averageruns)\n",
        "plt.title('Average comparison ')\n",
        "plt.show()"
      ],
      "execution_count": null,
      "outputs": [
        {
          "output_type": "display_data",
          "data": {
            "image/png": "[encoded data removed]",
            "text/plain": [
              "<Figure size 432x288 with 1 Axes>"
            ]
          },
          "metadata": {
            "tags": [],
            "needs_background": "light"
          }
        }
      ]
    },
    {
      "cell_type": "code",
      "metadata": {
        "colab": {
          "base_uri": "https://localhost:8080/"
        },
        "id": "O7ZRhrMbgOEl",
        "outputId": "eea5cf3c-45fc-4d35-f4f0-4ed9a94c222e"
      },
      "source": [
        "av21={'Player':['David Warner','Kane Williamson'],'Average':[32.16,128.00]}\n",
        "averageruns21=pd.DataFrame(av21)\n",
        "print(averageruns21)"
      ],
      "execution_count": null,
      "outputs": [
        {
          "output_type": "stream",
          "text": [
            "            Player  Average\n",
            "0     David Warner    32.16\n",
            "1  Kane Williamson   128.00\n"
          ],
          "name": "stdout"
        }
      ]
    },
    {
      "cell_type": "code",
      "metadata": {
        "colab": {
          "base_uri": "https://localhost:8080/",
          "height": 295
        },
        "id": "8E77l0ShgjVU",
        "outputId": "24673aca-7d5e-4896-f0bb-5ddf2e1ccab7"
      },
      "source": [
        "sns.barplot(x='Player',y='Average',data=averageruns21)\n",
        "plt.title('Average comparison 2021 ')\n",
        "plt.show()"
      ],
      "execution_count": null,
      "outputs": [
        {
          "output_type": "display_data",
          "data": {
            "image/png": "[encoded data removed]",
            "text/plain": [
              "<Figure size 432x288 with 1 Axes>"
            ]
          },
          "metadata": {
            "tags": [],
            "needs_background": "light"
          }
        }
      ]
    },
    {
      "cell_type": "markdown",
      "metadata": {
        "id": "j8ts0IkUynON"
      },
      "source": [
        "##Inference \n",
        "###On comapring the average of the two players ,Kane Williamson has a better average over the years and well as particularly in the year 2021 when compared to David Warner"
      ]
    },
    {
      "cell_type": "markdown",
      "metadata": {
        "id": "g8CyqfT7y8y7"
      },
      "source": [
        "##Comparision of the Strike Rate between David Warner and Kane Williamson"
      ]
    },
    {
      "cell_type": "code",
      "metadata": {
        "colab": {
          "base_uri": "https://localhost:8080/"
        },
        "id": "PWMy6DjbeO6p",
        "outputId": "73520206-d091-4cbd-aa9e-6761d5dcaeee"
      },
      "source": [
        "s=np.array([110.28,134.64,143.86,141.81,151.42,156.54,140.8,126.93,164.1,117.39,147.64,123.48])\n",
        "t=np.array([126.73,133.75,120,142.44,151.47,101.63,114.81])\n",
        "dwsr=np.average(s)\n",
        "kwsr=np.average(t)\n",
        "print(dwsr,kwsr)\n",
        "\n",
        "sr={'Player':['David Warner','Kane Williamson'],'Strike Rate':[138.24083,127.2614285]}\n",
        "strikerate=pd.DataFrame(sr) \n",
        "print(strikerate)\n"
      ],
      "execution_count": null,
      "outputs": [
        {
          "output_type": "stream",
          "text": [
            "138.24083333333337 127.2614285714286\n",
            "            Player  Strike Rate\n",
            "0     David Warner   138.240830\n",
            "1  Kane Williamson   127.261428\n"
          ],
          "name": "stdout"
        }
      ]
    },
    {
      "cell_type": "code",
      "metadata": {
        "colab": {
          "base_uri": "https://localhost:8080/",
          "height": 295
        },
        "id": "NjEXPGL8ar7E",
        "outputId": "658ddb66-c25e-401b-b4d8-5c78481364f5"
      },
      "source": [
        "sns.barplot(x='Player',y='Strike Rate',data=strikerate)\n",
        "plt.title('Strike Rate comparison ')\n",
        "plt.show()"
      ],
      "execution_count": null,
      "outputs": [
        {
          "output_type": "display_data",
          "data": {
            "image/png": "[encoded data removed]",
            "text/plain": [
              "<Figure size 432x288 with 1 Axes>"
            ]
          },
          "metadata": {
            "tags": [],
            "needs_background": "light"
          }
        }
      ]
    },
    {
      "cell_type": "code",
      "metadata": {
        "colab": {
          "base_uri": "https://localhost:8080/"
        },
        "id": "HcLE-ig6b9Lg",
        "outputId": "1d5e900b-aa51-4178-80fa-183d9814d38c"
      },
      "source": [
        "sr21={'Player':['David Warner','Kane Williamson'],'Strike Rate':[110.28,126.73]}\n",
        "strikerate21=pd.DataFrame(sr21)\n",
        "print(strikerate21)\n"
      ],
      "execution_count": null,
      "outputs": [
        {
          "output_type": "stream",
          "text": [
            "            Player  Strike Rate\n",
            "0     David Warner       110.28\n",
            "1  Kane Williamson       126.73\n"
          ],
          "name": "stdout"
        }
      ]
    },
    {
      "cell_type": "code",
      "metadata": {
        "colab": {
          "base_uri": "https://localhost:8080/",
          "height": 295
        },
        "id": "cuoT9T2PhZmG",
        "outputId": "3064d88f-4507-4a79-fcbc-a23ce88cbad1"
      },
      "source": [
        "sns.barplot(x='Player',y='Strike Rate',data=strikerate21)\n",
        "plt.title('Strike Rate comparison 2021')\n",
        "plt.show()"
      ],
      "execution_count": null,
      "outputs": [
        {
          "output_type": "display_data",
          "data": {
            "image/png": "[encoded data removed]",
            "text/plain": [
              "<Figure size 432x288 with 1 Axes>"
            ]
          },
          "metadata": {
            "tags": [],
            "needs_background": "light"
          }
        }
      ]
    },
    {
      "cell_type": "markdown",
      "metadata": {
        "id": "o6muoUb8zb_o"
      },
      "source": [
        "##Inference\n",
        "###On comparing the strike rate over the years David warner has a higher strike rate than Kane Williamson ,but in the year 2021 Kane williamson has a better strike rate compared to David Warner "
      ]
    },
    {
      "cell_type": "markdown",
      "metadata": {
        "id": "fvRm9M5iz4Ym"
      },
      "source": [
        "##Conclusion based on the performance \n",
        "###Average and strike rate are the two important parmeters considered to analyze the performance of a batsman.Fom the analysis of these two parameters we can conclude that Kane Williamson is a better performer than David Warner"
      ]
    },
    {
      "cell_type": "markdown",
      "metadata": {
        "id": "dcrOVnpm0oZN"
      },
      "source": [
        "#2.Flexibility in batting position\n",
        "\n",
        "###David Warner: always a opener\n",
        "###Kane Williamson :flexible between one down and two down"
      ]
    },
    {
      "cell_type": "code",
      "metadata": {
        "id": "gSkI9kVcLFBf"
      },
      "source": [
        "#dwp: scores of david warners(opener)\n",
        "#kw1:scores of Kane Williamson (one down)\n",
        "#kw2: scores of Kane williamson(two down)\n",
        "\n",
        "dwp=np.array([57,6,37,36,54,3,2,17,8,66,35,4,9,48,52,60,28,45,36,6])\n",
        "kw1=np.array([20,66,16])\n",
        "kw2=np.array([26,67,50,8,11,57,22,20,3,9,41])"
      ],
      "execution_count": null,
      "outputs": []
    },
    {
      "cell_type": "code",
      "metadata": {
        "colab": {
          "base_uri": "https://localhost:8080/"
        },
        "id": "tG3RZX073eC1",
        "outputId": "807ee24f-a9f7-4ac1-8084-03874df645b9"
      },
      "source": [
        "dwp\n"
      ],
      "execution_count": null,
      "outputs": [
        {
          "output_type": "execute_result",
          "data": {
            "text/plain": [
              "array([57,  6, 37, 36, 54,  3,  2, 17,  8, 66, 35,  4,  9, 48, 52, 60, 28,\n",
              "       45, 36,  6])"
            ]
          },
          "metadata": {
            "tags": []
          },
          "execution_count": 19
        }
      ]
    },
    {
      "cell_type": "code",
      "metadata": {
        "colab": {
          "base_uri": "https://localhost:8080/"
        },
        "id": "KvoY4_Xb3vwz",
        "outputId": "074c517b-72c1-4e1c-fdc9-ea6878bcdbfe"
      },
      "source": [
        "np.average(dwp)"
      ],
      "execution_count": null,
      "outputs": [
        {
          "output_type": "execute_result",
          "data": {
            "text/plain": [
              "30.45"
            ]
          },
          "metadata": {
            "tags": []
          },
          "execution_count": 20
        }
      ]
    },
    {
      "cell_type": "code",
      "metadata": {
        "colab": {
          "base_uri": "https://localhost:8080/"
        },
        "id": "SjRjeye_3gGB",
        "outputId": "d3aee610-5be5-46ac-c11b-868304091543"
      },
      "source": [
        "kw1"
      ],
      "execution_count": null,
      "outputs": [
        {
          "output_type": "execute_result",
          "data": {
            "text/plain": [
              "array([20, 66, 16])"
            ]
          },
          "metadata": {
            "tags": []
          },
          "execution_count": 21
        }
      ]
    },
    {
      "cell_type": "code",
      "metadata": {
        "colab": {
          "base_uri": "https://localhost:8080/"
        },
        "id": "g2o4Red832dm",
        "outputId": "1c5f6014-8142-4f1e-a8fd-47ade47bd8f4"
      },
      "source": [
        "np.average(kw1)"
      ],
      "execution_count": null,
      "outputs": [
        {
          "output_type": "execute_result",
          "data": {
            "text/plain": [
              "34.0"
            ]
          },
          "metadata": {
            "tags": []
          },
          "execution_count": 22
        }
      ]
    },
    {
      "cell_type": "code",
      "metadata": {
        "colab": {
          "base_uri": "https://localhost:8080/"
        },
        "id": "LWgXjsDg3gUQ",
        "outputId": "345ed2f2-760b-4a57-d75f-c3403b8f61c5"
      },
      "source": [
        "kw2"
      ],
      "execution_count": null,
      "outputs": [
        {
          "output_type": "execute_result",
          "data": {
            "text/plain": [
              "array([26, 67, 50,  8, 11, 57, 22, 20,  3,  9, 41])"
            ]
          },
          "metadata": {
            "tags": []
          },
          "execution_count": 23
        }
      ]
    },
    {
      "cell_type": "code",
      "metadata": {
        "colab": {
          "base_uri": "https://localhost:8080/"
        },
        "id": "Dr5iZcZP3kqX",
        "outputId": "52b22237-6ead-469b-af72-e64c575f0a00"
      },
      "source": [
        "np.average(kw2)"
      ],
      "execution_count": null,
      "outputs": [
        {
          "output_type": "execute_result",
          "data": {
            "text/plain": [
              "28.545454545454547"
            ]
          },
          "metadata": {
            "tags": []
          },
          "execution_count": 24
        }
      ]
    },
    {
      "cell_type": "code",
      "metadata": {
        "colab": {
          "base_uri": "https://localhost:8080/"
        },
        "id": "fH8wp-IKkvyP",
        "outputId": "fcbd65f2-d1d3-45d8-cff6-b655bfb64953"
      },
      "source": [
        "bp={'Player':['David(opener)','Kane(one down)','Kane(two down)'],'Average Scores':[30.45,34,28.54]}\n",
        "battingposition=pd.DataFrame(bp)\n",
        "print(battingposition)\n"
      ],
      "execution_count": null,
      "outputs": [
        {
          "output_type": "stream",
          "text": [
            "           Player  Average Scores\n",
            "0   David(opener)           30.45\n",
            "1  Kane(one down)           34.00\n",
            "2  Kane(two down)           28.54\n"
          ],
          "name": "stdout"
        }
      ]
    },
    {
      "cell_type": "code",
      "metadata": {
        "colab": {
          "base_uri": "https://localhost:8080/",
          "height": 295
        },
        "id": "bt66K9BHlWdp",
        "outputId": "d873baa7-074e-4a51-c954-92166e59da45"
      },
      "source": [
        "sns.barplot(x='Player',y='Average Scores',data=battingposition)\n",
        "plt.title('Batting Position Comparision')\n",
        "plt.show()"
      ],
      "execution_count": null,
      "outputs": [
        {
          "output_type": "display_data",
          "data": {
            "image/png": "[encoded data removed]",
            "text/plain": [
              "<Figure size 432x288 with 1 Axes>"
            ]
          },
          "metadata": {
            "tags": [],
            "needs_background": "light"
          }
        }
      ]
    },
    {
      "cell_type": "markdown",
      "metadata": {
        "id": "S8PZgCumgXJw"
      },
      "source": [
        "##Conclusion based on batting position \n",
        "###Kane Williamson is much more flexible in terms of the batting position which is always a added advantage to the team ."
      ]
    },
    {
      "cell_type": "markdown",
      "metadata": {
        "id": "UQaAuZeb8x0e"
      },
      "source": [
        "#3.Performance of other player's under the captancy of David Warner and Kane Williamson\n",
        "###(considered five players who have played for SRH for atleast three years)\n",
        "\n",
        "##year 2020 : David Warner Captain\n",
        "##year 2019 : Kane Williamson Captain"
      ]
    },
    {
      "cell_type": "markdown",
      "metadata": {
        "id": "Jz0Wt7cgTpfB"
      },
      "source": [
        "###Player 1 : Manish Pandey (Batsman)"
      ]
    },
    {
      "cell_type": "code",
      "metadata": {
        "colab": {
          "base_uri": "https://localhost:8080/"
        },
        "id": "nSMKzDVuEWse",
        "outputId": "df68f551-3b17-4901-e330-698453fa0f8b"
      },
      "source": [
        "data1={'Year':[2020],'Matches':[16],'Runs':[425],'Average':[32.69],'Strike Rate':[127.62]}\n",
        "mp2020=pd.DataFrame(data1)\n",
        "print(mp2020)\n",
        "\n"
      ],
      "execution_count": null,
      "outputs": [
        {
          "output_type": "stream",
          "text": [
            "   Year  Matches  Runs  Average  Strike Rate\n",
            "0  2020       16   425    32.69       127.62\n"
          ],
          "name": "stdout"
        }
      ]
    },
    {
      "cell_type": "code",
      "metadata": {
        "colab": {
          "base_uri": "https://localhost:8080/"
        },
        "id": "MSg8Wo94FN11",
        "outputId": "b5a081a8-7594-434d-af48-6bca2dd1d3aa"
      },
      "source": [
        "data10={'Year':[2019],'Matches':[12],'Runs':[349],'Average':[43.00],'Strike Rate':[130.79]}\n",
        "mp2019=pd.DataFrame(data10)\n",
        "print(mp2019)"
      ],
      "execution_count": null,
      "outputs": [
        {
          "output_type": "stream",
          "text": [
            "   Year  Matches  Runs  Average  Strike Rate\n",
            "0  2019       12   349     43.0       130.79\n"
          ],
          "name": "stdout"
        }
      ]
    },
    {
      "cell_type": "code",
      "metadata": {
        "colab": {
          "base_uri": "https://localhost:8080/"
        },
        "id": "3ycsJ9aiGGEV",
        "outputId": "99f0f60d-c38c-4ee4-d10b-e7ed2a12d4a4"
      },
      "source": [
        "aa=pd.concat([mp2020,mp2019])\n",
        "print(aa)\n",
        "\n"
      ],
      "execution_count": null,
      "outputs": [
        {
          "output_type": "stream",
          "text": [
            "   Year  Matches  Runs  Average  Strike Rate\n",
            "0  2020       16   425    32.69       127.62\n",
            "0  2019       12   349    43.00       130.79\n"
          ],
          "name": "stdout"
        }
      ]
    },
    {
      "cell_type": "code",
      "metadata": {
        "id": "t1PrLFNWbkZK",
        "colab": {
          "base_uri": "https://localhost:8080/",
          "height": 295
        },
        "outputId": "1f72b134-59eb-4db9-91f2-3100220f4b1a"
      },
      "source": [
        "sns.barplot(x='Year',y='Average',data=aa)\n",
        "plt.title('Manish Pandey Average')\n",
        "plt.show()"
      ],
      "execution_count": null,
      "outputs": [
        {
          "output_type": "display_data",
          "data": {
            "image/png": "[encoded data removed]",
            "text/plain": [
              "<Figure size 432x288 with 1 Axes>"
            ]
          },
          "metadata": {
            "tags": [],
            "needs_background": "light"
          }
        }
      ]
    },
    {
      "cell_type": "code",
      "metadata": {
        "colab": {
          "base_uri": "https://localhost:8080/",
          "height": 295
        },
        "id": "0SsesbZlPPXl",
        "outputId": "53bc8282-c535-4c4f-f75b-9af014c3feba"
      },
      "source": [
        "sns.barplot(x='Year',y='Strike Rate',data=aa)\n",
        "plt.title('Manish Pandey Strike Rate')\n",
        "plt.show()"
      ],
      "execution_count": null,
      "outputs": [
        {
          "output_type": "display_data",
          "data": {
            "image/png": "[encoded data removed]",
            "text/plain": [
              "<Figure size 432x288 with 1 Axes>"
            ]
          },
          "metadata": {
            "tags": [],
            "needs_background": "light"
          }
        }
      ]
    },
    {
      "cell_type": "markdown",
      "metadata": {
        "id": "7Syhq40fT08t"
      },
      "source": [
        "###Player 2 : Vijay Shankar (Batsman)"
      ]
    },
    {
      "cell_type": "code",
      "metadata": {
        "colab": {
          "base_uri": "https://localhost:8080/"
        },
        "id": "P9NrVoWqGnDv",
        "outputId": "bce0cd64-c5b2-4449-f888-c78cd474bec0"
      },
      "source": [
        "data2={'Year':[2020],'Matches':[7],'Runs':[97],'Average':[24.25],'Strike Rate':[101.04]}\n",
        "vs2020=pd.DataFrame(data2)\n",
        "print(vs2020)"
      ],
      "execution_count": null,
      "outputs": [
        {
          "output_type": "stream",
          "text": [
            "   Year  Matches  Runs  Average  Strike Rate\n",
            "0  2020        7    97    24.25       101.04\n"
          ],
          "name": "stdout"
        }
      ]
    },
    {
      "cell_type": "code",
      "metadata": {
        "colab": {
          "base_uri": "https://localhost:8080/"
        },
        "id": "ITX1HyHoGndH",
        "outputId": "424497ec-d74f-4113-a4e8-1c7c3379e335"
      },
      "source": [
        "data20={'Year':[2019],'Matches':[15],'Runs':[244],'Average':[24.25],'Strike Rate':[126.42]}\n",
        "vs2019=pd.DataFrame(data20)\n",
        "print(vs2019)"
      ],
      "execution_count": null,
      "outputs": [
        {
          "output_type": "stream",
          "text": [
            "   Year  Matches  Runs  Average  Strike Rate\n",
            "0  2019       15   244    24.25       126.42\n"
          ],
          "name": "stdout"
        }
      ]
    },
    {
      "cell_type": "code",
      "metadata": {
        "colab": {
          "base_uri": "https://localhost:8080/"
        },
        "id": "jfZ7lnloGnp9",
        "outputId": "531e5196-2771-4347-ab36-026d0a159014"
      },
      "source": [
        "bb=pd.concat([vs2020,vs2019])\n",
        "print(bb)\n",
        " "
      ],
      "execution_count": null,
      "outputs": [
        {
          "output_type": "stream",
          "text": [
            "   Year  Matches  Runs  Average  Strike Rate\n",
            "0  2020        7    97    24.25       101.04\n",
            "0  2019       15   244    24.25       126.42\n"
          ],
          "name": "stdout"
        }
      ]
    },
    {
      "cell_type": "code",
      "metadata": {
        "colab": {
          "base_uri": "https://localhost:8080/",
          "height": 295
        },
        "id": "N7PPoSroMIzr",
        "outputId": "68513677-0708-4ff3-9a30-1c0523d82d2c"
      },
      "source": [
        "sns.barplot(x='Year',y='Average',data=bb)\n",
        "plt.title('Vijay Shankar Average')\n",
        "plt.show()"
      ],
      "execution_count": null,
      "outputs": [
        {
          "output_type": "display_data",
          "data": {
            "image/png": "[encoded data removed]",
            "text/plain": [
              "<Figure size 432x288 with 1 Axes>"
            ]
          },
          "metadata": {
            "tags": [],
            "needs_background": "light"
          }
        }
      ]
    },
    {
      "cell_type": "code",
      "metadata": {
        "colab": {
          "base_uri": "https://localhost:8080/",
          "height": 295
        },
        "id": "1RUa2RerPcn5",
        "outputId": "aa83d1ce-804b-4b3f-a97f-92e688f57cd8"
      },
      "source": [
        "sns.barplot(x='Year',y='Strike Rate',data=bb)\n",
        "plt.title('Vijay Shankar Strike Rate')\n",
        "plt.show()"
      ],
      "execution_count": null,
      "outputs": [
        {
          "output_type": "display_data",
          "data": {
            "image/png": "[encoded data removed]",
            "text/plain": [
              "<Figure size 432x288 with 1 Axes>"
            ]
          },
          "metadata": {
            "tags": [],
            "needs_background": "light"
          }
        }
      ]
    },
    {
      "cell_type": "markdown",
      "metadata": {
        "id": "kXDiCRSyT9nk"
      },
      "source": [
        "###Player 3 : Rashid Khan (Bowler)"
      ]
    },
    {
      "cell_type": "code",
      "metadata": {
        "colab": {
          "base_uri": "https://localhost:8080/"
        },
        "id": "yLILo8PTHeAf",
        "outputId": "2060a7c9-c05f-4ab0-b36b-fd34c7b3ae4e"
      },
      "source": [
        "data3={'Year':[2020],'Matches':[16],'Wickets':[20],'Economy':[5.37],'average':[8.75]}\n",
        "rk2020=pd.DataFrame(data3)\n",
        "print(rk2020)"
      ],
      "execution_count": null,
      "outputs": [
        {
          "output_type": "stream",
          "text": [
            "   Year  Matches  Wickets  Economy  average\n",
            "0  2020       16       20     5.37     8.75\n"
          ],
          "name": "stdout"
        }
      ]
    },
    {
      "cell_type": "code",
      "metadata": {
        "colab": {
          "base_uri": "https://localhost:8080/"
        },
        "id": "uWzvIIraHeN8",
        "outputId": "5e4b6221-746e-450d-c4e5-8b14b37ebf46"
      },
      "source": [
        "data30={'Year':[2019],'Matches':[15],'Wickets':[17],'Economy':[6.28],'average':[22.17]}\n",
        "rk2019=pd.DataFrame(data30)\n",
        "print(rk2019)"
      ],
      "execution_count": null,
      "outputs": [
        {
          "output_type": "stream",
          "text": [
            "   Year  Matches  Wickets  Economy  average\n",
            "0  2019       15       17     6.28    22.17\n"
          ],
          "name": "stdout"
        }
      ]
    },
    {
      "cell_type": "code",
      "metadata": {
        "colab": {
          "base_uri": "https://localhost:8080/"
        },
        "id": "Tl_EL_1nHeWz",
        "outputId": "c292a9ef-ddf6-455b-c19c-a81678e483a4"
      },
      "source": [
        "cc=pd.concat([rk2020,rk2019])\n",
        "print(cc)"
      ],
      "execution_count": null,
      "outputs": [
        {
          "output_type": "stream",
          "text": [
            "   Year  Matches  Wickets  Economy  average\n",
            "0  2020       16       20     5.37     8.75\n",
            "0  2019       15       17     6.28    22.17\n"
          ],
          "name": "stdout"
        }
      ]
    },
    {
      "cell_type": "code",
      "metadata": {
        "colab": {
          "base_uri": "https://localhost:8080/",
          "height": 295
        },
        "id": "XfPCrRLkPpPl",
        "outputId": "d4b9786f-5570-45e4-8726-92f71b0d5673"
      },
      "source": [
        "sns.barplot(x='Year',y='Wickets',data=cc)\n",
        "plt.title('Rashid Khan Wickets')\n",
        "plt.show()"
      ],
      "execution_count": null,
      "outputs": [
        {
          "output_type": "display_data",
          "data": {
            "image/png": "[encoded data removed]",
            "text/plain": [
              "<Figure size 432x288 with 1 Axes>"
            ]
          },
          "metadata": {
            "tags": [],
            "needs_background": "light"
          }
        }
      ]
    },
    {
      "cell_type": "code",
      "metadata": {
        "colab": {
          "base_uri": "https://localhost:8080/",
          "height": 295
        },
        "id": "p7BphzVTQBay",
        "outputId": "e64a77f7-c59b-48e8-8a52-00cb45bd802c"
      },
      "source": [
        "sns.barplot(x='Year',y='Economy',data=cc)\n",
        "plt.title('Rashid Khan Economy')\n",
        "plt.show()"
      ],
      "execution_count": null,
      "outputs": [
        {
          "output_type": "display_data",
          "data": {
            "image/png": "[encoded data removed]",
            "text/plain": [
              "<Figure size 432x288 with 1 Axes>"
            ]
          },
          "metadata": {
            "tags": [],
            "needs_background": "light"
          }
        }
      ]
    },
    {
      "cell_type": "code",
      "metadata": {
        "colab": {
          "base_uri": "https://localhost:8080/",
          "height": 295
        },
        "id": "pD3Xujh_QMa3",
        "outputId": "d60a9134-8a18-4fad-9d03-c33f24005847"
      },
      "source": [
        "sns.barplot(x='Year',y='average',data=cc)\n",
        "plt.title('Rashid Khan Average')\n",
        "plt.show()"
      ],
      "execution_count": null,
      "outputs": [
        {
          "output_type": "display_data",
          "data": {
            "image/png": "[encoded data removed]",
            "text/plain": [
              "<Figure size 432x288 with 1 Axes>"
            ]
          },
          "metadata": {
            "tags": [],
            "needs_background": "light"
          }
        }
      ]
    },
    {
      "cell_type": "markdown",
      "metadata": {
        "id": "rg3405pvUJzs"
      },
      "source": [
        "###Player 4 : Sandeep Sharma (Bowler)"
      ]
    },
    {
      "cell_type": "code",
      "metadata": {
        "colab": {
          "base_uri": "https://localhost:8080/"
        },
        "id": "oaIXINpTI6aQ",
        "outputId": "32274f2f-dedf-41b8-c469-380d0baf0d1e"
      },
      "source": [
        "data4={'Year':[2020],'Matches':[1],'Wickets':[2],'Economy':[16.00],'average':[32]}\n",
        "ss2020=pd.DataFrame(data4)\n",
        "print(ss2020)"
      ],
      "execution_count": null,
      "outputs": [
        {
          "output_type": "stream",
          "text": [
            "   Year  Matches  Wickets  Economy  average\n",
            "0  2020        1        2     16.0       32\n"
          ],
          "name": "stdout"
        }
      ]
    },
    {
      "cell_type": "code",
      "metadata": {
        "colab": {
          "base_uri": "https://localhost:8080/"
        },
        "id": "_NHljLPSI6io",
        "outputId": "50498466-c473-484c-e262-d8c24cc4b765"
      },
      "source": [
        "data40={'Year':[2019],'Matches':[7],'Wickets':[6],'Economy':[8.96],'average':[40.33]}\n",
        "ss2019=pd.DataFrame(data40)\n",
        "print(ss2019)\n"
      ],
      "execution_count": null,
      "outputs": [
        {
          "output_type": "stream",
          "text": [
            "   Year  Matches  Wickets  Economy  average\n",
            "0  2019        7        6     8.96    40.33\n"
          ],
          "name": "stdout"
        }
      ]
    },
    {
      "cell_type": "code",
      "metadata": {
        "colab": {
          "base_uri": "https://localhost:8080/"
        },
        "id": "NNl2OYywI6r2",
        "outputId": "993e253b-67d8-42f1-e86c-c0b6ac08379f"
      },
      "source": [
        "dd=pd.concat([ss2020,ss2019])\n",
        "print(dd)"
      ],
      "execution_count": null,
      "outputs": [
        {
          "output_type": "stream",
          "text": [
            "   Year  Matches  Wickets  Economy  average\n",
            "0  2020        1        2    16.00    32.00\n",
            "0  2019        7        6     8.96    40.33\n"
          ],
          "name": "stdout"
        }
      ]
    },
    {
      "cell_type": "code",
      "metadata": {
        "colab": {
          "base_uri": "https://localhost:8080/",
          "height": 295
        },
        "id": "H9kNulRjQS2D",
        "outputId": "3b116d24-1df5-4c50-c6a9-daacb75d34cb"
      },
      "source": [
        "sns.barplot(x='Year',y='Wickets',data=dd)\n",
        "plt.title('Sandeep Sharma Wickets')\n",
        "plt.show()"
      ],
      "execution_count": null,
      "outputs": [
        {
          "output_type": "display_data",
          "data": {
            "image/png": "[encoded data removed]",
            "text/plain": [
              "<Figure size 432x288 with 1 Axes>"
            ]
          },
          "metadata": {
            "tags": [],
            "needs_background": "light"
          }
        }
      ]
    },
    {
      "cell_type": "code",
      "metadata": {
        "colab": {
          "base_uri": "https://localhost:8080/",
          "height": 295
        },
        "id": "DIo-18mXQTeW",
        "outputId": "bf0faa0c-06a2-499e-b346-6a91d28da057"
      },
      "source": [
        "sns.barplot(x='Year',y='Economy',data=dd)\n",
        "plt.title('Sandeep Sharma Economy')\n",
        "plt.show()"
      ],
      "execution_count": null,
      "outputs": [
        {
          "output_type": "display_data",
          "data": {
            "image/png": "[encoded data removed]",
            "text/plain": [
              "<Figure size 432x288 with 1 Axes>"
            ]
          },
          "metadata": {
            "tags": [],
            "needs_background": "light"
          }
        }
      ]
    },
    {
      "cell_type": "code",
      "metadata": {
        "colab": {
          "base_uri": "https://localhost:8080/",
          "height": 295
        },
        "id": "fUMlqzlFQTsJ",
        "outputId": "aa4ac2d8-cce0-476f-c0c3-d590200d100b"
      },
      "source": [
        "sns.barplot(x='Year',y='average',data=dd)\n",
        "plt.title('Sandeep Sharma Average')\n",
        "plt.show()"
      ],
      "execution_count": null,
      "outputs": [
        {
          "output_type": "display_data",
          "data": {
            "image/png": "[encoded data removed]",
            "text/plain": [
              "<Figure size 432x288 with 1 Axes>"
            ]
          },
          "metadata": {
            "tags": [],
            "needs_background": "light"
          }
        }
      ]
    },
    {
      "cell_type": "markdown",
      "metadata": {
        "id": "4ZzwOpyyUimN"
      },
      "source": [
        "###Player 5 : Khaleel Ahmed"
      ]
    },
    {
      "cell_type": "code",
      "metadata": {
        "colab": {
          "base_uri": "https://localhost:8080/"
        },
        "id": "sRkSRrAEJjhu",
        "outputId": "ced26365-6d9b-4c79-f5ee-6c1d4654ca49"
      },
      "source": [
        "data5={'Year':[2020],'Matches':[7],'Wickets':[8],'Economy':[9.42],'average':[30.25]}\n",
        "ka2020=pd.DataFrame(data5)\n",
        "print(ka2020)"
      ],
      "execution_count": null,
      "outputs": [
        {
          "output_type": "stream",
          "text": [
            "   Year  Matches  Wickets  Economy  average\n",
            "0  2020        7        8     9.42    30.25\n"
          ],
          "name": "stdout"
        }
      ]
    },
    {
      "cell_type": "code",
      "metadata": {
        "colab": {
          "base_uri": "https://localhost:8080/"
        },
        "id": "zLfbOdTfJjr4",
        "outputId": "6e48ece1-9bb6-44ca-8565-e4ab7a880180"
      },
      "source": [
        "data50={'Year':[2019],'Matches':[9],'Wickets':[19],'Economy':[8.23],'average':[15.10]}\n",
        "ka2019=pd.DataFrame(data50)\n",
        "print(ka2019)"
      ],
      "execution_count": null,
      "outputs": [
        {
          "output_type": "stream",
          "text": [
            "   Year  Matches  Wickets  Economy  average\n",
            "0  2019        9       19     8.23     15.1\n"
          ],
          "name": "stdout"
        }
      ]
    },
    {
      "cell_type": "code",
      "metadata": {
        "colab": {
          "base_uri": "https://localhost:8080/"
        },
        "id": "5irAQTe6Jjx_",
        "outputId": "d7c25d26-5534-426f-810e-98b5e97af8f3"
      },
      "source": [
        "ee=pd.concat([ka2020,ka2019])\n",
        "print(ee)"
      ],
      "execution_count": null,
      "outputs": [
        {
          "output_type": "stream",
          "text": [
            "   Year  Matches  Wickets  Economy  average\n",
            "0  2020        7        8     9.42    30.25\n",
            "0  2019        9       19     8.23    15.10\n"
          ],
          "name": "stdout"
        }
      ]
    },
    {
      "cell_type": "code",
      "metadata": {
        "colab": {
          "base_uri": "https://localhost:8080/",
          "height": 295
        },
        "id": "FPBqY9HQQooL",
        "outputId": "39d83c06-83c3-4b3b-e57e-492fbc069e18"
      },
      "source": [
        "sns.barplot(x='Year',y='Wickets',data=ee)\n",
        "plt.title('Khaleel Ahamed Wickets')\n",
        "plt.show()"
      ],
      "execution_count": null,
      "outputs": [
        {
          "output_type": "display_data",
          "data": {
            "image/png": "[encoded data removed]",
            "text/plain": [
              "<Figure size 432x288 with 1 Axes>"
            ]
          },
          "metadata": {
            "tags": [],
            "needs_background": "light"
          }
        }
      ]
    },
    {
      "cell_type": "code",
      "metadata": {
        "colab": {
          "base_uri": "https://localhost:8080/",
          "height": 295
        },
        "id": "ZD-eWzUfQpSB",
        "outputId": "d592f229-6901-4ee0-ef7c-46088c0db0f5"
      },
      "source": [
        "sns.barplot(x='Year',y='Economy',data=ee)\n",
        "plt.title('Khaleel Ahamed Economy')\n",
        "plt.show()"
      ],
      "execution_count": null,
      "outputs": [
        {
          "output_type": "display_data",
          "data": {
            "image/png": "[encoded data removed]",
            "text/plain": [
              "<Figure size 432x288 with 1 Axes>"
            ]
          },
          "metadata": {
            "tags": [],
            "needs_background": "light"
          }
        }
      ]
    },
    {
      "cell_type": "code",
      "metadata": {
        "colab": {
          "base_uri": "https://localhost:8080/",
          "height": 295
        },
        "id": "Pb29wTZfQpd_",
        "outputId": "4a0a8849-5ab6-4a09-c5f1-95616c3c2098"
      },
      "source": [
        "sns.barplot(x='Year',y='average',data=ee)\n",
        "plt.title('Khaleel Ahamed average')\n",
        "plt.show()"
      ],
      "execution_count": null,
      "outputs": [
        {
          "output_type": "display_data",
          "data": {
            "image/png": "[encoded data removed]",
            "text/plain": [
              "<Figure size 432x288 with 1 Axes>"
            ]
          },
          "metadata": {
            "tags": [],
            "needs_background": "light"
          }
        }
      ]
    },
    {
      "cell_type": "markdown",
      "metadata": {
        "id": "ZFhtkhqtUxAM"
      },
      "source": [
        "##Conclusion based on other players performance\n",
        "### From the above data and graphical representation we can observe that four out of five players ( that is Manish Pandey,Vijay Shankar,Sandeep Sharma and Khaleel Ahamed) had a better performance under the captancy of Kane Williamson compared to David Warner"
      ]
    }
  ]
}